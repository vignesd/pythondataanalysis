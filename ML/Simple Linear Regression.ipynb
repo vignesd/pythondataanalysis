{
 "cells": [
  {
   "cell_type": "code",
   "execution_count": 1,
   "id": "looking-imagination",
   "metadata": {},
   "outputs": [],
   "source": [
    "import numpy as np\n",
    "import pandas as pd\n",
    "import matplotlib.pyplot as plt\n",
    "import seaborn as sns\n",
    "import mpl_toolkits\n",
    "from sklearn import linear_model\n",
    "%matplotlib inline\n",
    "plt.style.use('ggplot')\n",
    "import warnings\n",
    "warnings.filterwarnings(\"ignore\")"
   ]
  },
  {
   "cell_type": "code",
   "execution_count": 3,
   "id": "protecting-answer",
   "metadata": {},
   "outputs": [],
   "source": [
    "df = pd.read_excel(\"data\\Linear Regression Data.xlsx\")"
   ]
  },
  {
   "cell_type": "code",
   "execution_count": 4,
   "id": "hydraulic-method",
   "metadata": {},
   "outputs": [
    {
     "data": {
      "text/html": [
       "<div>\n",
       "<style scoped>\n",
       "    .dataframe tbody tr th:only-of-type {\n",
       "        vertical-align: middle;\n",
       "    }\n",
       "\n",
       "    .dataframe tbody tr th {\n",
       "        vertical-align: top;\n",
       "    }\n",
       "\n",
       "    .dataframe thead th {\n",
       "        text-align: right;\n",
       "    }\n",
       "</style>\n",
       "<table border=\"1\" class=\"dataframe\">\n",
       "  <thead>\n",
       "    <tr style=\"text-align: right;\">\n",
       "      <th></th>\n",
       "      <th>Marketing Budget (X) in Thousands</th>\n",
       "      <th>Actual Sales(Y) in Millions</th>\n",
       "    </tr>\n",
       "  </thead>\n",
       "  <tbody>\n",
       "    <tr>\n",
       "      <th>0</th>\n",
       "      <td>127.4</td>\n",
       "      <td>10.5</td>\n",
       "    </tr>\n",
       "    <tr>\n",
       "      <th>1</th>\n",
       "      <td>364.4</td>\n",
       "      <td>21.4</td>\n",
       "    </tr>\n",
       "    <tr>\n",
       "      <th>2</th>\n",
       "      <td>150.0</td>\n",
       "      <td>10.0</td>\n",
       "    </tr>\n",
       "    <tr>\n",
       "      <th>3</th>\n",
       "      <td>128.7</td>\n",
       "      <td>9.6</td>\n",
       "    </tr>\n",
       "    <tr>\n",
       "      <th>4</th>\n",
       "      <td>285.9</td>\n",
       "      <td>17.4</td>\n",
       "    </tr>\n",
       "    <tr>\n",
       "      <th>5</th>\n",
       "      <td>200.0</td>\n",
       "      <td>12.5</td>\n",
       "    </tr>\n",
       "    <tr>\n",
       "      <th>6</th>\n",
       "      <td>303.3</td>\n",
       "      <td>20.0</td>\n",
       "    </tr>\n",
       "    <tr>\n",
       "      <th>7</th>\n",
       "      <td>315.7</td>\n",
       "      <td>21.0</td>\n",
       "    </tr>\n",
       "    <tr>\n",
       "      <th>8</th>\n",
       "      <td>169.8</td>\n",
       "      <td>14.7</td>\n",
       "    </tr>\n",
       "    <tr>\n",
       "      <th>9</th>\n",
       "      <td>104.9</td>\n",
       "      <td>10.1</td>\n",
       "    </tr>\n",
       "    <tr>\n",
       "      <th>10</th>\n",
       "      <td>297.7</td>\n",
       "      <td>21.5</td>\n",
       "    </tr>\n",
       "    <tr>\n",
       "      <th>11</th>\n",
       "      <td>256.4</td>\n",
       "      <td>16.6</td>\n",
       "    </tr>\n",
       "    <tr>\n",
       "      <th>12</th>\n",
       "      <td>249.1</td>\n",
       "      <td>17.1</td>\n",
       "    </tr>\n",
       "    <tr>\n",
       "      <th>13</th>\n",
       "      <td>323.1</td>\n",
       "      <td>20.7</td>\n",
       "    </tr>\n",
       "    <tr>\n",
       "      <th>14</th>\n",
       "      <td>223.0</td>\n",
       "      <td>15.5</td>\n",
       "    </tr>\n",
       "    <tr>\n",
       "      <th>15</th>\n",
       "      <td>235.0</td>\n",
       "      <td>13.5</td>\n",
       "    </tr>\n",
       "    <tr>\n",
       "      <th>16</th>\n",
       "      <td>200.0</td>\n",
       "      <td>12.5</td>\n",
       "    </tr>\n",
       "  </tbody>\n",
       "</table>\n",
       "</div>"
      ],
      "text/plain": [
       "    Marketing Budget (X) in Thousands  Actual Sales(Y) in Millions\n",
       "0                               127.4                         10.5\n",
       "1                               364.4                         21.4\n",
       "2                               150.0                         10.0\n",
       "3                               128.7                          9.6\n",
       "4                               285.9                         17.4\n",
       "5                               200.0                         12.5\n",
       "6                               303.3                         20.0\n",
       "7                               315.7                         21.0\n",
       "8                               169.8                         14.7\n",
       "9                               104.9                         10.1\n",
       "10                              297.7                         21.5\n",
       "11                              256.4                         16.6\n",
       "12                              249.1                         17.1\n",
       "13                              323.1                         20.7\n",
       "14                              223.0                         15.5\n",
       "15                              235.0                         13.5\n",
       "16                              200.0                         12.5"
      ]
     },
     "execution_count": 4,
     "metadata": {},
     "output_type": "execute_result"
    }
   ],
   "source": [
    "df"
   ]
  },
  {
   "cell_type": "code",
   "execution_count": 5,
   "id": "voluntary-situation",
   "metadata": {},
   "outputs": [
    {
     "data": {
      "image/png": "[encoded data removed]",
      "text/plain": [
       "<Figure size 432x288 with 2 Axes>"
      ]
     },
     "metadata": {},
     "output_type": "display_data"
    }
   ],
   "source": [
    "# Visualizing the data using heatmap\n",
    "sns.heatmap(df.corr(), cmap=\"YlGnBu\", annot = True)\n",
    "plt.show()"
   ]
  },
  {
   "cell_type": "code",
   "execution_count": 6,
   "id": "listed-trust",
   "metadata": {},
   "outputs": [
    {
     "data": {
      "image/png": "[encoded data removed]",
      "text/plain": [
       "<Figure size 864x432 with 1 Axes>"
      ]
     },
     "metadata": {},
     "output_type": "display_data"
    }
   ],
   "source": [
    "plt.figure(figsize=(12,6))\n",
    "plt.scatter(df['Marketing Budget (X) in Thousands'], df['Actual Sales(Y) in Millions'], color='red')\n",
    "plt.title('Sales Vs Budget', fontsize=14)\n",
    "plt.xlabel('Marketing Budget (k)', fontsize=14)\n",
    "plt.ylabel('Actual Sales (m)', fontsize=14)\n",
    "plt.grid(True)\n",
    "plt.show()"
   ]
  },
  {
   "cell_type": "code",
   "execution_count": 7,
   "id": "continuing-waters",
   "metadata": {},
   "outputs": [
    {
     "data": {
      "text/html": [
       "<div>\n",
       "<style scoped>\n",
       "    .dataframe tbody tr th:only-of-type {\n",
       "        vertical-align: middle;\n",
       "    }\n",
       "\n",
       "    .dataframe tbody tr th {\n",
       "        vertical-align: top;\n",
       "    }\n",
       "\n",
       "    .dataframe thead th {\n",
       "        text-align: right;\n",
       "    }\n",
       "</style>\n",
       "<table border=\"1\" class=\"dataframe\">\n",
       "  <thead>\n",
       "    <tr style=\"text-align: right;\">\n",
       "      <th></th>\n",
       "      <th>Marketing Budget (X) in Thousands</th>\n",
       "    </tr>\n",
       "  </thead>\n",
       "  <tbody>\n",
       "    <tr>\n",
       "      <th>0</th>\n",
       "      <td>127.4</td>\n",
       "    </tr>\n",
       "    <tr>\n",
       "      <th>1</th>\n",
       "      <td>364.4</td>\n",
       "    </tr>\n",
       "    <tr>\n",
       "      <th>2</th>\n",
       "      <td>150.0</td>\n",
       "    </tr>\n",
       "    <tr>\n",
       "      <th>3</th>\n",
       "      <td>128.7</td>\n",
       "    </tr>\n",
       "    <tr>\n",
       "      <th>4</th>\n",
       "      <td>285.9</td>\n",
       "    </tr>\n",
       "    <tr>\n",
       "      <th>5</th>\n",
       "      <td>200.0</td>\n",
       "    </tr>\n",
       "    <tr>\n",
       "      <th>6</th>\n",
       "      <td>303.3</td>\n",
       "    </tr>\n",
       "    <tr>\n",
       "      <th>7</th>\n",
       "      <td>315.7</td>\n",
       "    </tr>\n",
       "    <tr>\n",
       "      <th>8</th>\n",
       "      <td>169.8</td>\n",
       "    </tr>\n",
       "    <tr>\n",
       "      <th>9</th>\n",
       "      <td>104.9</td>\n",
       "    </tr>\n",
       "    <tr>\n",
       "      <th>10</th>\n",
       "      <td>297.7</td>\n",
       "    </tr>\n",
       "    <tr>\n",
       "      <th>11</th>\n",
       "      <td>256.4</td>\n",
       "    </tr>\n",
       "    <tr>\n",
       "      <th>12</th>\n",
       "      <td>249.1</td>\n",
       "    </tr>\n",
       "    <tr>\n",
       "      <th>13</th>\n",
       "      <td>323.1</td>\n",
       "    </tr>\n",
       "    <tr>\n",
       "      <th>14</th>\n",
       "      <td>223.0</td>\n",
       "    </tr>\n",
       "    <tr>\n",
       "      <th>15</th>\n",
       "      <td>235.0</td>\n",
       "    </tr>\n",
       "    <tr>\n",
       "      <th>16</th>\n",
       "      <td>200.0</td>\n",
       "    </tr>\n",
       "  </tbody>\n",
       "</table>\n",
       "</div>"
      ],
      "text/plain": [
       "    Marketing Budget (X) in Thousands\n",
       "0                               127.4\n",
       "1                               364.4\n",
       "2                               150.0\n",
       "3                               128.7\n",
       "4                               285.9\n",
       "5                               200.0\n",
       "6                               303.3\n",
       "7                               315.7\n",
       "8                               169.8\n",
       "9                               104.9\n",
       "10                              297.7\n",
       "11                              256.4\n",
       "12                              249.1\n",
       "13                              323.1\n",
       "14                              223.0\n",
       "15                              235.0\n",
       "16                              200.0"
      ]
     },
     "execution_count": 7,
     "metadata": {},
     "output_type": "execute_result"
    }
   ],
   "source": [
    "n_df = df.drop('Actual Sales(Y) in Millions',axis='columns')\n",
    "n_df"
   ]
  },
  {
   "cell_type": "code",
   "execution_count": 8,
   "id": "sacred-detective",
   "metadata": {},
   "outputs": [
    {
     "data": {
      "text/plain": [
       "0     10.5\n",
       "1     21.4\n",
       "2     10.0\n",
       "3      9.6\n",
       "4     17.4\n",
       "5     12.5\n",
       "6     20.0\n",
       "7     21.0\n",
       "8     14.7\n",
       "9     10.1\n",
       "10    21.5\n",
       "11    16.6\n",
       "12    17.1\n",
       "13    20.7\n",
       "14    15.5\n",
       "15    13.5\n",
       "16    12.5\n",
       "Name: Actual Sales(Y) in Millions, dtype: float64"
      ]
     },
     "execution_count": 8,
     "metadata": {},
     "output_type": "execute_result"
    }
   ],
   "source": [
    "sales = df['Actual Sales(Y) in Millions']\n",
    "sales"
   ]
  },
  {
   "cell_type": "code",
   "execution_count": 9,
   "id": "found-exclusive",
   "metadata": {},
   "outputs": [
    {
     "data": {
      "text/plain": [
       "LinearRegression()"
      ]
     },
     "execution_count": 9,
     "metadata": {},
     "output_type": "execute_result"
    }
   ],
   "source": [
    "# Create linear regression object\n",
    "lr = linear_model.LinearRegression()\n",
    "lr.fit(n_df,sales)"
   ]
  },
  {
   "cell_type": "code",
   "execution_count": 10,
   "id": "indirect-administration",
   "metadata": {},
   "outputs": [
    {
     "data": {
      "text/plain": [
       "array([11.26758759])"
      ]
     },
     "execution_count": 10,
     "metadata": {},
     "output_type": "execute_result"
    }
   ],
   "source": [
    "#let's predict Sales for a given budget amount\n",
    "lr.predict([[150]])"
   ]
  },
  {
   "cell_type": "code",
   "execution_count": 12,
   "id": "tamil-universal",
   "metadata": {},
   "outputs": [],
   "source": [
    "#let's generate model prediction for all budget amounts in our dataset\n",
    "y_predict = lr.predict(n_df)"
   ]
  },
  {
   "cell_type": "code",
   "execution_count": 13,
   "id": "automotive-singapore",
   "metadata": {},
   "outputs": [
    {
     "data": {
      "image/png": "[encoded data removed]",
      "text/plain": [
       "<Figure size 864x432 with 1 Axes>"
      ]
     },
     "metadata": {},
     "output_type": "display_data"
    }
   ],
   "source": [
    "# Visualize the predicted amount as a line on the test set\n",
    "#The scatter-plot with best-fit line looks like\n",
    "plt.figure(figsize=(12,6))\n",
    "plt.scatter(df['Marketing Budget (X) in Thousands'], df['Actual Sales(Y) in Millions'])\n",
    "plt.plot(df['Marketing Budget (X) in Thousands'], y_predict, 'r')\n",
    "plt.show()"
   ]
  },
  {
   "cell_type": "code",
   "execution_count": 14,
   "id": "partial-thong",
   "metadata": {},
   "outputs": [
    {
     "name": "stdout",
     "output_type": "stream",
     "text": [
      "Intercept : 3.3524968264935957\n",
      "Slope : [0.05276727]\n"
     ]
    }
   ],
   "source": [
    "#Generate a file with list of sales predictions\n",
    "# Intercept value\n",
    "print(\"Intercept :\",lr.intercept_)\n",
    "\n",
    "# Slope value\n",
    "print('Slope :',lr.coef_)"
   ]
  },
  {
   "cell_type": "markdown",
   "id": "excessive-retail",
   "metadata": {},
   "source": [
    "### Y= mx + b\n",
    "#### m = 0.05276727\n",
    "#### b = 3.3524968264935975\n",
    "#### x = Marketing Budget (X) in Thousands"
   ]
  },
  {
   "cell_type": "code",
   "execution_count": 15,
   "id": "rolled-threshold",
   "metadata": {},
   "outputs": [
    {
     "data": {
      "image/png": "[encoded data removed]",
      "text/plain": [
       "<Figure size 864x432 with 1 Axes>"
      ]
     },
     "metadata": {},
     "output_type": "display_data"
    }
   ],
   "source": [
    "# Manually plotting the line with above Intercept and Slope\n",
    "plt.figure(figsize=(12,6))\n",
    "plt.scatter(df['Marketing Budget (X) in Thousands'], df['Actual Sales(Y) in Millions'])\n",
    "plt.plot(df['Marketing Budget (X) in Thousands'],  0.05276727*df['Marketing Budget (X) in Thousands'] + 3.3524968264935975, 'r')\n",
    "plt.show()"
   ]
  },
  {
   "cell_type": "code",
   "execution_count": 16,
   "id": "suffering-nebraska",
   "metadata": {},
   "outputs": [
    {
     "data": {
      "image/png": "[encoded data removed]",
      "text/plain": [
       "<Figure size 864x432 with 1 Axes>"
      ]
     },
     "metadata": {},
     "output_type": "display_data"
    }
   ],
   "source": [
    "plt.figure(figsize=(12,6))\n",
    "x_ax = range(len(df['Actual Sales(Y) in Millions']))\n",
    "plt.plot(x_ax, df['Actual Sales(Y) in Millions'], label=\"original\")\n",
    "plt.plot(x_ax,y_predict, label=\"predicted\")\n",
    "plt.title(\"Actual Sales and predicted data\")\n",
    "plt.legend()\n",
    "plt.show()"
   ]
  },
  {
   "cell_type": "code",
   "execution_count": 17,
   "id": "widespread-sphere",
   "metadata": {},
   "outputs": [
    {
     "data": {
      "text/html": [
       "<div>\n",
       "<style scoped>\n",
       "    .dataframe tbody tr th:only-of-type {\n",
       "        vertical-align: middle;\n",
       "    }\n",
       "\n",
       "    .dataframe tbody tr th {\n",
       "        vertical-align: top;\n",
       "    }\n",
       "\n",
       "    .dataframe thead th {\n",
       "        text-align: right;\n",
       "    }\n",
       "</style>\n",
       "<table border=\"1\" class=\"dataframe\">\n",
       "  <thead>\n",
       "    <tr style=\"text-align: right;\">\n",
       "      <th></th>\n",
       "      <th>Marketing Budget</th>\n",
       "    </tr>\n",
       "  </thead>\n",
       "  <tbody>\n",
       "    <tr>\n",
       "      <th>0</th>\n",
       "      <td>201</td>\n",
       "    </tr>\n",
       "    <tr>\n",
       "      <th>1</th>\n",
       "      <td>207</td>\n",
       "    </tr>\n",
       "    <tr>\n",
       "      <th>2</th>\n",
       "      <td>225</td>\n",
       "    </tr>\n",
       "    <tr>\n",
       "      <th>3</th>\n",
       "      <td>225</td>\n",
       "    </tr>\n",
       "    <tr>\n",
       "      <th>4</th>\n",
       "      <td>270</td>\n",
       "    </tr>\n",
       "    <tr>\n",
       "      <th>5</th>\n",
       "      <td>275</td>\n",
       "    </tr>\n",
       "    <tr>\n",
       "      <th>6</th>\n",
       "      <td>292</td>\n",
       "    </tr>\n",
       "    <tr>\n",
       "      <th>7</th>\n",
       "      <td>299</td>\n",
       "    </tr>\n",
       "    <tr>\n",
       "      <th>8</th>\n",
       "      <td>310</td>\n",
       "    </tr>\n",
       "    <tr>\n",
       "      <th>9</th>\n",
       "      <td>323</td>\n",
       "    </tr>\n",
       "  </tbody>\n",
       "</table>\n",
       "</div>"
      ],
      "text/plain": [
       "   Marketing Budget\n",
       "0               201\n",
       "1               207\n",
       "2               225\n",
       "3               225\n",
       "4               270\n",
       "5               275\n",
       "6               292\n",
       "7               299\n",
       "8               310\n",
       "9               323"
      ]
     },
     "execution_count": 17,
     "metadata": {},
     "output_type": "execute_result"
    }
   ],
   "source": [
    "#proposed budget\n",
    "from pandas import DataFrame\n",
    "Stock_Market = {'Marketing Budget': [201,207,225,225,270,275,292,299,310,323,] }\n",
    "b_df = DataFrame(Stock_Market,columns=['Marketing Budget']) \n",
    "b_df"
   ]
  },
  {
   "cell_type": "code",
   "execution_count": 18,
   "id": "cross-simpson",
   "metadata": {},
   "outputs": [
    {
     "data": {
      "text/plain": [
       "array([13.95871845, 14.27532208, 15.22513297, 15.22513297, 17.5996602 ,\n",
       "       17.86349656, 18.76054018, 19.12991108, 19.71035107, 20.3963256 ])"
      ]
     },
     "execution_count": 18,
     "metadata": {},
     "output_type": "execute_result"
    }
   ],
   "source": [
    "#Predict Sales for the forecasted budget amount\n",
    "ps = lr.predict(b_df)\n",
    "ps"
   ]
  },
  {
   "cell_type": "code",
   "execution_count": 19,
   "id": "dated-suggestion",
   "metadata": {},
   "outputs": [
    {
     "data": {
      "text/html": [
       "<div>\n",
       "<style scoped>\n",
       "    .dataframe tbody tr th:only-of-type {\n",
       "        vertical-align: middle;\n",
       "    }\n",
       "\n",
       "    .dataframe tbody tr th {\n",
       "        vertical-align: top;\n",
       "    }\n",
       "\n",
       "    .dataframe thead th {\n",
       "        text-align: right;\n",
       "    }\n",
       "</style>\n",
       "<table border=\"1\" class=\"dataframe\">\n",
       "  <thead>\n",
       "    <tr style=\"text-align: right;\">\n",
       "      <th></th>\n",
       "      <th>Marketing Budget</th>\n",
       "      <th>Forecasted Sales</th>\n",
       "    </tr>\n",
       "  </thead>\n",
       "  <tbody>\n",
       "    <tr>\n",
       "      <th>0</th>\n",
       "      <td>201</td>\n",
       "      <td>13.958718</td>\n",
       "    </tr>\n",
       "    <tr>\n",
       "      <th>1</th>\n",
       "      <td>207</td>\n",
       "      <td>14.275322</td>\n",
       "    </tr>\n",
       "    <tr>\n",
       "      <th>2</th>\n",
       "      <td>225</td>\n",
       "      <td>15.225133</td>\n",
       "    </tr>\n",
       "    <tr>\n",
       "      <th>3</th>\n",
       "      <td>225</td>\n",
       "      <td>15.225133</td>\n",
       "    </tr>\n",
       "    <tr>\n",
       "      <th>4</th>\n",
       "      <td>270</td>\n",
       "      <td>17.599660</td>\n",
       "    </tr>\n",
       "    <tr>\n",
       "      <th>5</th>\n",
       "      <td>275</td>\n",
       "      <td>17.863497</td>\n",
       "    </tr>\n",
       "    <tr>\n",
       "      <th>6</th>\n",
       "      <td>292</td>\n",
       "      <td>18.760540</td>\n",
       "    </tr>\n",
       "    <tr>\n",
       "      <th>7</th>\n",
       "      <td>299</td>\n",
       "      <td>19.129911</td>\n",
       "    </tr>\n",
       "    <tr>\n",
       "      <th>8</th>\n",
       "      <td>310</td>\n",
       "      <td>19.710351</td>\n",
       "    </tr>\n",
       "    <tr>\n",
       "      <th>9</th>\n",
       "      <td>323</td>\n",
       "      <td>20.396326</td>\n",
       "    </tr>\n",
       "  </tbody>\n",
       "</table>\n",
       "</div>"
      ],
      "text/plain": [
       "   Marketing Budget  Forecasted Sales\n",
       "0               201         13.958718\n",
       "1               207         14.275322\n",
       "2               225         15.225133\n",
       "3               225         15.225133\n",
       "4               270         17.599660\n",
       "5               275         17.863497\n",
       "6               292         18.760540\n",
       "7               299         19.129911\n",
       "8               310         19.710351\n",
       "9               323         20.396326"
      ]
     },
     "execution_count": 19,
     "metadata": {},
     "output_type": "execute_result"
    }
   ],
   "source": [
    "b_df['Forecasted Sales'] = ps\n",
    "b_df"
   ]
  },
  {
   "cell_type": "code",
   "execution_count": 20,
   "id": "explicit-idaho",
   "metadata": {},
   "outputs": [],
   "source": [
    "b_df.to_csv(\"Forecasted_Sales.csv\")"
   ]
  },
  {
   "cell_type": "code",
   "execution_count": null,
   "id": "established-edinburgh",
   "metadata": {},
   "outputs": [],
   "source": []
  },
  {
   "cell_type": "code",
   "execution_count": null,
   "id": "incorporated-perspective",
   "metadata": {},
   "outputs": [],
   "source": []
  }
 ],
 "metadata": {
  "kernelspec": {
   "display_name": "Python 3",
   "language": "python",
   "name": "python3"
  },
  "language_info": {
   "codemirror_mode": {
    "name": "ipython",
    "version": 3
   },
   "file_extension": ".py",
   "mimetype": "text/x-python",
   "name": "python",
   "nbconvert_exporter": "python",
   "pygments_lexer": "ipython3",
   "version": "3.8.8"
  }
 },
 "nbformat": 4,
 "nbformat_minor": 5
}
